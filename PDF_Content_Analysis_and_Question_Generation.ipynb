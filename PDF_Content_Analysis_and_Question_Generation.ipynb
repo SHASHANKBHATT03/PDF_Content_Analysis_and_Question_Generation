{
  "nbformat": 4,
  "nbformat_minor": 0,
  "metadata": {
    "colab": {
      "provenance": [],
      "authorship_tag": "ABX9TyPcswbltU40Fzvn1hNsdFah",
      "include_colab_link": true
    },
    "kernelspec": {
      "name": "python3",
      "display_name": "Python 3"
    },
    "language_info": {
      "name": "python"
    }
  },
  "cells": [
    {
      "cell_type": "markdown",
      "metadata": {
        "id": "view-in-github",
        "colab_type": "text"
      },
      "source": [
        "<a href=\"https://colab.research.google.com/github/SHASHANKBHATT03/PDF_Content_Analysis_and_Question_Generation/blob/main/PDF_Content_Analysis_and_Question_Generation.ipynb\" target=\"_parent\"><img src=\"https://colab.research.google.com/assets/colab-badge.svg\" alt=\"Open In Colab\"/></a>"
      ]
    },
    {
      "cell_type": "code",
      "source": [
        "# STEP 1: Install dependencies\n",
        "!pip install pdfplumber pymupdf"
      ],
      "metadata": {
        "colab": {
          "base_uri": "https://localhost:8080/"
        },
        "id": "qZgE6kOKXdPh",
        "outputId": "b6daf370-e503-4def-88d5-d6037ac765b1"
      },
      "execution_count": 1,
      "outputs": [
        {
          "output_type": "stream",
          "name": "stdout",
          "text": [
            "Collecting pdfplumber\n",
            "  Downloading pdfplumber-0.11.7-py3-none-any.whl.metadata (42 kB)\n",
            "\u001b[?25l     \u001b[90m━━━━━━━━━━━━━━━━━━━━━━━━━━━━━━━━━━━━━━━━\u001b[0m \u001b[32m0.0/42.8 kB\u001b[0m \u001b[31m?\u001b[0m eta \u001b[36m-:--:--\u001b[0m\r\u001b[2K     \u001b[90m━━━━━━━━━━━━━━━━━━━━━━━━━━━━━━━━━━━━━━━━\u001b[0m \u001b[32m42.8/42.8 kB\u001b[0m \u001b[31m2.2 MB/s\u001b[0m eta \u001b[36m0:00:00\u001b[0m\n",
            "\u001b[?25hCollecting pymupdf\n",
            "  Downloading pymupdf-1.26.3-cp39-abi3-manylinux_2_28_x86_64.whl.metadata (3.4 kB)\n",
            "Collecting pdfminer.six==20250506 (from pdfplumber)\n",
            "  Downloading pdfminer_six-20250506-py3-none-any.whl.metadata (4.2 kB)\n",
            "Requirement already satisfied: Pillow>=9.1 in /usr/local/lib/python3.11/dist-packages (from pdfplumber) (11.2.1)\n",
            "Collecting pypdfium2>=4.18.0 (from pdfplumber)\n",
            "  Downloading pypdfium2-4.30.0-py3-none-manylinux_2_17_x86_64.manylinux2014_x86_64.whl.metadata (48 kB)\n",
            "\u001b[2K     \u001b[90m━━━━━━━━━━━━━━━━━━━━━━━━━━━━━━━━━━━━━━━━\u001b[0m \u001b[32m48.5/48.5 kB\u001b[0m \u001b[31m3.2 MB/s\u001b[0m eta \u001b[36m0:00:00\u001b[0m\n",
            "\u001b[?25hRequirement already satisfied: charset-normalizer>=2.0.0 in /usr/local/lib/python3.11/dist-packages (from pdfminer.six==20250506->pdfplumber) (3.4.2)\n",
            "Requirement already satisfied: cryptography>=36.0.0 in /usr/local/lib/python3.11/dist-packages (from pdfminer.six==20250506->pdfplumber) (43.0.3)\n",
            "Requirement already satisfied: cffi>=1.12 in /usr/local/lib/python3.11/dist-packages (from cryptography>=36.0.0->pdfminer.six==20250506->pdfplumber) (1.17.1)\n",
            "Requirement already satisfied: pycparser in /usr/local/lib/python3.11/dist-packages (from cffi>=1.12->cryptography>=36.0.0->pdfminer.six==20250506->pdfplumber) (2.22)\n",
            "Downloading pdfplumber-0.11.7-py3-none-any.whl (60 kB)\n",
            "\u001b[2K   \u001b[90m━━━━━━━━━━━━━━━━━━━━━━━━━━━━━━━━━━━━━━━━\u001b[0m \u001b[32m60.0/60.0 kB\u001b[0m \u001b[31m2.2 MB/s\u001b[0m eta \u001b[36m0:00:00\u001b[0m\n",
            "\u001b[?25hDownloading pdfminer_six-20250506-py3-none-any.whl (5.6 MB)\n",
            "\u001b[2K   \u001b[90m━━━━━━━━━━━━━━━━━━━━━━━━━━━━━━━━━━━━━━━━\u001b[0m \u001b[32m5.6/5.6 MB\u001b[0m \u001b[31m17.4 MB/s\u001b[0m eta \u001b[36m0:00:00\u001b[0m\n",
            "\u001b[?25hDownloading pymupdf-1.26.3-cp39-abi3-manylinux_2_28_x86_64.whl (24.1 MB)\n",
            "\u001b[2K   \u001b[90m━━━━━━━━━━━━━━━━━━━━━━━━━━━━━━━━━━━━━━━━\u001b[0m \u001b[32m24.1/24.1 MB\u001b[0m \u001b[31m43.1 MB/s\u001b[0m eta \u001b[36m0:00:00\u001b[0m\n",
            "\u001b[?25hDownloading pypdfium2-4.30.0-py3-none-manylinux_2_17_x86_64.manylinux2014_x86_64.whl (2.8 MB)\n",
            "\u001b[2K   \u001b[90m━━━━━━━━━━━━━━━━━━━━━━━━━━━━━━━━━━━━━━━━\u001b[0m \u001b[32m2.8/2.8 MB\u001b[0m \u001b[31m67.9 MB/s\u001b[0m eta \u001b[36m0:00:00\u001b[0m\n",
            "\u001b[?25hInstalling collected packages: pypdfium2, pymupdf, pdfminer.six, pdfplumber\n",
            "Successfully installed pdfminer.six-20250506 pdfplumber-0.11.7 pymupdf-1.26.3 pypdfium2-4.30.0\n"
          ]
        }
      ]
    },
    {
      "cell_type": "code",
      "source": [
        "# STEP 2: Download the file from the provided direct link\n",
        "import requests\n",
        "\n",
        "# Download the file\n",
        "file_url = 'https://drive.usercontent.google.com/u/0/uc?id=1YMeevGdKmkR_wDoc2AUadsnhaR75AghJ&export=download' # your link\n",
        "local_pdf = 'input_assignment.pdf'\n",
        "\n",
        "with requests.get(file_url, stream=True) as r:\n",
        "    r.raise_for_status()\n",
        "    with open(local_pdf, 'wb') as f:\n",
        "        for chunk in r.iter_content(chunk_size=8192):\n",
        "            f.write(chunk)\n",
        "\n",
        "print(\"PDF downloaded as\", local_pdf)"
      ],
      "metadata": {
        "colab": {
          "base_uri": "https://localhost:8080/"
        },
        "id": "zR9E8JOdXfWY",
        "outputId": "0c9beedb-6e8c-4c86-f98e-0894e8c1857e"
      },
      "execution_count": 2,
      "outputs": [
        {
          "output_type": "stream",
          "name": "stdout",
          "text": [
            "PDF downloaded as input_assignment.pdf\n"
          ]
        }
      ]
    },
    {
      "cell_type": "code",
      "execution_count": 3,
      "metadata": {
        "colab": {
          "base_uri": "https://localhost:8080/"
        },
        "id": "hgC7yHATz3IY",
        "outputId": "cb193aae-bcbb-4a4d-8bed-a697987d692e"
      },
      "outputs": [
        {
          "output_type": "stream",
          "name": "stdout",
          "text": [
            "✅ Extraction complete!\n",
            "Images: /content/output/images\n",
            "Questions JSON: /content/output/questions.json\n"
          ]
        }
      ],
      "source": [
        "# STEP 3: Extract text and images\n",
        "\n",
        "import os\n",
        "import fitz  # pymupdf\n",
        "import pdfplumber\n",
        "import json\n",
        "\n",
        "OUTPUT_DIR = '/content/output'\n",
        "IMAGES_DIR = os.path.join(OUTPUT_DIR, 'images')\n",
        "JSON_FILE = os.path.join(OUTPUT_DIR, 'questions.json')\n",
        "\n",
        "os.makedirs(IMAGES_DIR, exist_ok=True)\n",
        "\n",
        "# 3.1: Extract text page by page\n",
        "question_texts = []\n",
        "with pdfplumber.open(local_pdf) as pdf:\n",
        "    for page in pdf.pages:\n",
        "        text = page.extract_text() or \"\"\n",
        "        question_texts.append(text.strip())\n",
        "\n",
        "# 3.2: Extract images per page\n",
        "pdf_doc = fitz.open(local_pdf)\n",
        "option_images_per_page = []\n",
        "for page_number in range(len(pdf_doc)):\n",
        "    page = pdf_doc[page_number]\n",
        "    image_list = page.get_images(full=True)\n",
        "    images_on_this_page = []\n",
        "    for idx, img in enumerate(image_list):\n",
        "        xref = img[0]\n",
        "        base_image = pdf_doc.extract_image(xref)\n",
        "        image_bytes = base_image[\"image\"]\n",
        "        ext = base_image[\"ext\"]\n",
        "        img_filename = f\"page{page_number+1}_option_image_{idx+1}.{ext}\"\n",
        "        img_path = os.path.join(IMAGES_DIR, img_filename)\n",
        "        with open(img_path, \"wb\") as img_file:\n",
        "            img_file.write(image_bytes)\n",
        "        images_on_this_page.append(img_path)\n",
        "    option_images_per_page.append(images_on_this_page)\n",
        "\n",
        "# 3.3: Build output JSON\n",
        "data = []\n",
        "for i, question_text in enumerate(question_texts):\n",
        "    question_obj = {\n",
        "        \"question\": question_text,\n",
        "        \"option_images\": option_images_per_page[i]\n",
        "    }\n",
        "    data.append(question_obj)\n",
        "\n",
        "os.makedirs(OUTPUT_DIR, exist_ok=True)\n",
        "with open(JSON_FILE, \"w\", encoding=\"utf-8\") as f:\n",
        "    json.dump(data, f, indent=2)\n",
        "\n",
        "print(f\"✅ Extraction complete!\")\n",
        "print(f\"Images: {IMAGES_DIR}\")\n",
        "print(f\"Questions JSON: {JSON_FILE}\")\n"
      ]
    },
    {
      "cell_type": "code",
      "source": [
        "import shutil\n",
        "from google.colab import files\n",
        "\n",
        "# Zip the output folder\n",
        "shutil.make_archive(\"output\", 'zip', OUTPUT_DIR)\n",
        "\n",
        "# Download the zip file\n",
        "files.download(\"output.zip\")\n"
      ],
      "metadata": {
        "colab": {
          "base_uri": "https://localhost:8080/",
          "height": 17
        },
        "id": "3YqDYqFEY638",
        "outputId": "4da11f0b-34fd-4e51-84b6-ea7885015820"
      },
      "execution_count": 4,
      "outputs": [
        {
          "output_type": "display_data",
          "data": {
            "text/plain": [
              "<IPython.core.display.Javascript object>"
            ],
            "application/javascript": [
              "\n",
              "    async function download(id, filename, size) {\n",
              "      if (!google.colab.kernel.accessAllowed) {\n",
              "        return;\n",
              "      }\n",
              "      const div = document.createElement('div');\n",
              "      const label = document.createElement('label');\n",
              "      label.textContent = `Downloading \"${filename}\": `;\n",
              "      div.appendChild(label);\n",
              "      const progress = document.createElement('progress');\n",
              "      progress.max = size;\n",
              "      div.appendChild(progress);\n",
              "      document.body.appendChild(div);\n",
              "\n",
              "      const buffers = [];\n",
              "      let downloaded = 0;\n",
              "\n",
              "      const channel = await google.colab.kernel.comms.open(id);\n",
              "      // Send a message to notify the kernel that we're ready.\n",
              "      channel.send({})\n",
              "\n",
              "      for await (const message of channel.messages) {\n",
              "        // Send a message to notify the kernel that we're ready.\n",
              "        channel.send({})\n",
              "        if (message.buffers) {\n",
              "          for (const buffer of message.buffers) {\n",
              "            buffers.push(buffer);\n",
              "            downloaded += buffer.byteLength;\n",
              "            progress.value = downloaded;\n",
              "          }\n",
              "        }\n",
              "      }\n",
              "      const blob = new Blob(buffers, {type: 'application/binary'});\n",
              "      const a = document.createElement('a');\n",
              "      a.href = window.URL.createObjectURL(blob);\n",
              "      a.download = filename;\n",
              "      div.appendChild(a);\n",
              "      a.click();\n",
              "      div.remove();\n",
              "    }\n",
              "  "
            ]
          },
          "metadata": {}
        },
        {
          "output_type": "display_data",
          "data": {
            "text/plain": [
              "<IPython.core.display.Javascript object>"
            ],
            "application/javascript": [
              "download(\"download_4e92f9f2-daf9-4000-a0d8-f5ff511a93a0\", \"output.zip\", 530700)"
            ]
          },
          "metadata": {}
        }
      ]
    }
  ]
}